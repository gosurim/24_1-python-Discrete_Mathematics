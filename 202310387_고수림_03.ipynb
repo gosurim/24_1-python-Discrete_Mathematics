{
  "nbformat": 4,
  "nbformat_minor": 0,
  "metadata": {
    "colab": {
      "provenance": []
    },
    "kernelspec": {
      "name": "python3",
      "display_name": "Python 3"
    },
    "language_info": {
      "name": "python"
    }
  },
  "cells": [
    {
      "cell_type": "code",
      "execution_count": 14,
      "metadata": {
        "id": "bSTt5A14Dns3",
        "colab": {
          "base_uri": "https://localhost:8080/"
        },
        "outputId": "3ffa940a-fc07-4db3-8f54-0e47c03ee50d"
      },
      "outputs": [
        {
          "output_type": "stream",
          "name": "stdout",
          "text": [
            "반순서 관계입니다.\n"
          ]
        }
      ],
      "source": [
        "def is_reflexive(R, A): #반사관계\n",
        " return all((a, a) in R for a in A)\n",
        "\n",
        "def is_antisymmetric(R):#반대칭관계\n",
        " for a, b in R:\n",
        "  if a != b and (b, a) in R:\n",
        "   return False\n",
        " return True\n",
        "\n",
        "def is_transitive(R, X):#추이 관계\n",
        " for x in X:\n",
        "  for y in X:\n",
        "   for z in X:\n",
        "    if (x, y) in R and (y, z) in R and (x, z) not in R:\n",
        "     return False\n",
        "  return True\n",
        "\n",
        "def is_total(X, R): #전순서 관계\n",
        " for i in X:\n",
        "  for j in X:\n",
        "   if (i, j) not in R and (j, i) not in R:\n",
        "    return False\n",
        "  return True\n",
        "\n",
        "X = {1, 2, 3, 4, 5}\n",
        "R = {(1,1), (2,2), (3,3), (4,4), (5,5), (1,2), (1,5), (2,5), (3,5), (4,5)}\n",
        "\n",
        "if((is_reflexive(R, X)==True)and(is_antisymmetric(R)==True)and(is_transitive(R, X)==True)):\n",
        " if(is_total(X, R)==True):  #반순서 관계 만족하면 전순서 관계\n",
        "  print(\"전순서 관계입니다.\")\n",
        " else:\n",
        "  print(\"반순서 관계입니다.\")\n",
        "\n",
        ""
      ]
    }
  ]
}