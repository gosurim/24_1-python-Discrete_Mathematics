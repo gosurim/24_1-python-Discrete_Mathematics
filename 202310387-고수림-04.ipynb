{
  "cells": [
    {
      "cell_type": "code",
      "execution_count": 1,
      "metadata": {
        "colab": {
          "base_uri": "https://localhost:8080/"
        },
        "id": "bSTt5A14Dns3",
        "outputId": "9d6d6194-7449-4069-cf45-8b06e829ab2a"
      },
      "outputs": [
        {
          "data": {
            "text/plain": [
              "11"
            ]
          },
          "execution_count": 1,
          "metadata": {},
          "output_type": "execute_result"
        }
      ],
      "source": [
        "def walk(n):\n",
        "    if n == 1 or n == 2 or n == 3: \n",
        "        return n    #각 길이 경우의 수\n",
        "    return walk(n - 1) + walk(n - 2) +walk(n - 3) \n",
        "    #1, 2, 3걸음을 걷고 남은 길이 계산\n",
        "\n",
        "walk(5)"
      ]
    }
  ],
  "metadata": {
    "colab": {
      "provenance": []
    },
    "kernelspec": {
      "display_name": "Python 3",
      "name": "python3"
    },
    "language_info": {
      "name": "python"
    }
  },
  "nbformat": 4,
  "nbformat_minor": 0
}
