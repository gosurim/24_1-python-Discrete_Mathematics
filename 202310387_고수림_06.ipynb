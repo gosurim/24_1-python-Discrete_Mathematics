{
  "nbformat": 4,
  "nbformat_minor": 0,
  "metadata": {
    "colab": {
      "provenance": []
    },
    "kernelspec": {
      "name": "python3",
      "display_name": "Python 3"
    },
    "language_info": {
      "name": "python"
    }
  },
  "cells": [
    {
      "cell_type": "code",
      "source": [
        "import random\n",
        "import numpy as np\n",
        "\n",
        "def create_matrix():\n",
        "    n = random.choice([3, 4, 5])\n",
        "    matrix=[[0] * n for _ in range(n)]\n",
        "    degree1=[0] * n\n",
        "    degree2=[0] * n\n",
        "    cnt=0  # 차수 수\n",
        "    cnt2=0\n",
        "    edge=0 # 간선 수\n",
        "    loop=0 # 루프 수\n",
        "\n",
        "    for i in range(n):\n",
        "      for j in range(n):\n",
        "        matrix[i][j]=random.choice([0,1])\n",
        "        if(i!=j and matrix[i][j]==1): # 간선&진출 차수: 대각선 제외 행-열 간선\n",
        "          edge+=1\n",
        "          cnt+=1\n",
        "        if(i==j and matrix[i][j]==1): # 간선&루프: 대각선\n",
        "          loop+=1\n",
        "          edge+=1\n",
        "\n",
        "      degree1[i]=cnt\n",
        "\n",
        "      cnt=0\n",
        "\n",
        "    for i in range(n):\n",
        "      for j in range(n):\n",
        "        if(i!=j and matrix[j][i]==1): # 진입 차수: 대각선 제외 열-행 간선\n",
        "          cnt2+=1\n",
        "\n",
        "      degree2[i]=cnt2\n",
        "      cnt2=0\n",
        "    return matrix, edge, loop, degree1,degree2\n",
        "\n",
        "matrix, edge, loop, degree1,degree2 = create_matrix()\n",
        "\n",
        "for row in matrix: # 출력\n",
        "  print(row)\n",
        "\n",
        "print(\"Number of edges:\", edge)\n",
        "print(\"Number of loops:\", loop)\n",
        "print(\"out Degrees of vertices:\", degree1)\n",
        "print(\"in Degrees of vertices:\", degree2)"
      ],
      "metadata": {
        "colab": {
          "base_uri": "https://localhost:8080/"
        },
        "id": "P0GhCMwJEwEl",
        "outputId": "c409c19e-5827-4e55-de05-ecc765f1683a"
      },
      "execution_count": 32,
      "outputs": [
        {
          "output_type": "stream",
          "name": "stdout",
          "text": [
            "[0, 1, 0, 1, 1]\n",
            "[1, 0, 1, 1, 0]\n",
            "[0, 1, 1, 0, 1]\n",
            "[0, 0, 1, 1, 0]\n",
            "[1, 0, 1, 1, 0]\n",
            "Number of edges: 14\n",
            "Number of loops: 2\n",
            "out Degrees of vertices: [3, 3, 2, 1, 3]\n",
            "in Degrees of vertices: [2, 2, 3, 3, 2]\n"
          ]
        }
      ]
    },
    {
      "cell_type": "markdown",
      "source": [
        "간선: 진출 차수+대각선<br>\n",
        "루프: 대각선<br>\n",
        "진출 차수: 대각선 제외 행-열 간선으로 카운트->차수 배열에 담아서 print<br>\n",
        "진입 차수: 대각선 제외 열-행 간선으로 카운트->차수2 배열에 담아서 print"
      ],
      "metadata": {
        "id": "d3Ud6PhKdV29"
      }
    }
  ]
}